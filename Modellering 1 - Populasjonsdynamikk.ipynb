{
 "cells": [
  {
   "cell_type": "markdown",
   "metadata": {},
   "source": [
    "# Modellering av populasjoner\n",
    "\n",
    "Vi skal nå se på modellering av populasjoner med utgangspunkt i tre modeller som er basert på differensiallikninger. Disse skal vi så løse med Eulers metode. Følgende mål er viktige for å forstå modelleringsprosessen:\n",
    "\n",
    "- Drøfte modellens styrker og begrensninger.\n",
    "- Forstå og drøfte koeffisientenes betydning i en modell.\n",
    "- Forstå, utlede og bruke Eulers metode.\n",
    "- Tolke resultatene en får med Eulers metode.\n",
    "\n",
    "Dette skal vi øve oss på, slik at det avsluttende modelleringsprosjektet deres blir så godt som mulig!\n",
    "\n",
    "Vi skal utforske tre modeller for populasjonsdynamikk her. De tar utgangspunkt i følgende kriterier:\n",
    "\n",
    "1. Uendelig ressurser.\n",
    "2. Endelige ressurser: Bæreevne.\n",
    "3. Rovdyr-bytte-forhold.\n",
    "\n",
    "## Modell 1: Ubegrensa vekst\n",
    "\n",
    "<img src=\"https://i.ytimg.com/vi/k7PXL-khy4c/maxresdefault.jpg\",width=500,height=500>\n",
    "\n",
    "Vi slipper ut 100 kaniner på øde øy. Noen elever drar til øya og registrerer hvordan kaninene formerer seg. Ved å ta omfattende målinger hver måned, finner de ut at populasjoner av kaniner øker med 5 % i måneden.\n",
    "\n",
    "1. Forklar hvorfor vi kan bruke modellen $K'(t) = k\\cdot K(t)$, der $k = 0.10$.\n",
    "Ettersom endringen av populasjonen over (t) tid vil være populasjonen i en måned multiplisert med vekstraten til kaninene. \n",
    "\n",
    "2. Hvilken initalbetingelse har vi?\n",
    "Man trenger vekstraten til kaninene, samt start populasjonen. \n",
    "\n",
    "3. Løs difflikninga ovenfor med Eulers metode. Tegn grafen til _K_.\n",
    "Nedenfor\n",
    "\n",
    "4. Beskriv utviklinga med ord.\n",
    "En gradvis større og større vekst i antall kaniner, men prosentvis er veksten konstant. \n",
    "\n",
    "5. Hva skjer hvis vi begynner med 2, 5 eller 200 kaniner? Hvordan forandrer kurven seg.\n",
    "Kurven forandrer seg ikke stort, kun tallene på aksene. Dette er fordi vekstraten er fremdeles den samme, tiltross for hvor mange kaniner det er (med unntak av 0 kaniner såklart). Ser at dersom det er 1 kanin, er det fremdeles en vekst. Dette er kun mulig om kaninen er drektig når den blir satt ut. Dette tar ikke modellen hensyn til. \n",
    "\n",
    "6. Hva betyr egentlig $k$? Hva slags verdi av $k$ vil være realistisk (søk på internett).\n",
    "k betyr hvor stor økningen av kaninpopulasjonen er på. 0.5 vil tilsvare at populasjonen øker med 50%. \n",
    "http://www.petefalzone.com/handouts/exp-growth-rabbits-australia.pdf\n",
    "Et sted rundt 0.2 kan være rimelig. Dette er jo såklart basert på en kanin populasjon som lever på en øy med rovdyr og andre indirekte faktorer. Så 0.3 eller kanskje 0.4 kan være mer nøyaktig for en populasjon med ubegrenset vekst. \n",
    "\n",
    "7. Hva skjer hvis populasjonen øker med 10 % isteden? Hva med 50 %?\n",
    "Populasjonen vil øke mye raskere med 50% enn med 10%. En viktig ting å ha i bakhodet er at med en 50% økning havner populasjonen fort over bæreevnen. f.eks. kan det hende populasjonen spiser opp alt av mat. En vekst på 10% vil føre til at overgangen ikke blir like hard. Det kan hende mye av maten blir borte, men at det fremdeles er litt igjen slik at ikke alle kaninene sulter og dør. \n",
    "\n",
    "8. Forandrer noe seg hvis vi angir tida i år istedenfor måneder? Hva med $k$?\n",
    "Forskjellen er at grafen blir mye mer \"firkantet\", i tillegg til at veksten er mye tregere, siden populasjonen øker med 10% hvert år fremfor hver måned. \n",
    "\n",
    "9. Kunne du funnet et funksjonsuttrykk for _K_? Bruk grafen som hint.\n",
    "Ja, en eksponentiel funksjon kunne ha beskrevet populasjonsveksten. \n",
    "f.eks:\n",
    "f(x)= 100*0,1^x, der x er antall måneder. \n"
   ]
  },
  {
   "cell_type": "code",
   "execution_count": 20,
   "metadata": {},
   "outputs": [
    {
     "data": {
      "image/png": "[encoded data removed]",
      "text/plain": [
       "<Figure size 432x288 with 1 Axes>"
      ]
     },
     "metadata": {},
     "output_type": "display_data"
    }
   ],
   "source": [
    "from pylab import*\n",
    "#Definerer variablene\n",
    "N = 12*5      #Tiden i måneder\n",
    "dt = 1         #Antall måneder mellom hver \"måling\"\n",
    "k = 0.1        #Vekstfaktoren für die Kaninchen\n",
    "\n",
    "\n",
    "#Lager drei matriser\n",
    "tid = zeros(N)     #Matrise for tiden, altså hvilken måned antallet er i\n",
    "pop = zeros(N)     #Matrise for populasjonen\n",
    "popder = zeros(N)  #Matrise for den deriverte av populasjonen\n",
    "\n",
    "\n",
    "tid[0]= 0   #Setter at start tiden er 0 måneder for første måling\n",
    "pop[0]= 100 #Starter med 100 kaniner i starten\n",
    "\n",
    "\n",
    "\n",
    "for i in range(N-1):\n",
    "    popder[i] = k*pop[i]          #Den deriverte for en måned vil være populasjonen multiplisert med veksten\n",
    "    pop[i+1] = pop[i] + popder[i]*dt   #Populasjonen i neste måned er pop i forrige måned + endringen i populasjon * tidsrommet mellom \n",
    "    tid[i+1] = tid[i] + dt       #Tiden for neste måling vil være tiden på forrige måling + tiden mellom hver måling\n",
    "    \n",
    "plot(tid, pop)   #Plotter inn tid og populasjon i en graf\n",
    "title = (\"Kaninchen Populasjon\")\n",
    "xlabel = (\"Tid (måned)\")\n",
    "ylabel = ('antall kaniner')\n",
    "grid(True)     #Fikk feil melding for 'on', så bruker True isteden"
   ]
  },
  {
   "cell_type": "markdown",
   "metadata": {},
   "source": [
    "## Modell 2: Vekst med bæreevne\n",
    "\n",
    "<img src=\"https://no.vwr.com/no.vwr.com/no_NO/images/segment_microbiology.jpg\",width=500,height=500>\n",
    "\n",
    "Vi har 5000 bakterier i en petriskål med agar. Veksten til bakteriene er proposjonal med antall bakterier til enhver tid. En biolog finner ut at populasjonen stabiliserer seg etter hvert rundt 50000 bakterier.\n",
    "\n",
    "La $B(t)$ være antall bakterier i beholderen etter $t$ timer.\n",
    "\n",
    "1. Hva kan vi si om $B(0)$?\n",
    "Vi vet at B(0) = 5000, og at stigningstallet er 5000, ettersom stigningstallet er proporsjonalt med antall bakterier.\n",
    "\n",
    "2. Vi kaller bæreevnen $b$. Hva menes med bæreevne? Hvilke biologiske faktorer bestemmer denne?\n",
    "Bæreevne er evnen omgivelsene og populasjonen har til å holde på populasjonen. En populasjon kan ikke leve over bæreevnen over en lengre tidsperiode. Faktorer som bestemmer bæreevnen er typisk rovdyr, tilgang til mat, spredning av sykdom og plass. \n",
    "f.eks. hvis populasjonen til lemen vokser, blir det mer mat til rovdyrene slik at populasjonen deres også øker. Detter fører til færre lemen, som igjen fører til færre rovdyr. Her er rovdyrene en faktor for bæreevnen til lemen populasjone, og visa versa. \n",
    "\n",
    "3. Forklar at en gyldig modell kan gis ved: $B′(t) = k \\cdot B(t)\\cdot (1−B(t)/(b)$\n",
    "Modellen forklarer at endringen i en populasjon vil være populasjonen * vekstraten. Dette vil føre til at populasjonen vokser utenfor bæreevnen. Derfor multipliserer man med 1 - populasjonen delt på bæreevnen. Dersom f.eks populasjonen er laver enn bæreevnen vil endringen i populasjonen være positiv. Derimot hvis populasjonen er akkurat på bæreevnen vil det ikke være noen endrin: blabla*0 = 0\n",
    "Dersom populasjonen er større en bæreevnen vil 1 - populasjon/b være negativ. Altså blir populasjonen mindre. \n",
    "\n",
    "4. Forklar hvorfor k=0.000004 med regning.\n",
    "\n",
    "Klarte ikke dette\n",
    "\n",
    "5. Løs differensiallikninga med Eulers metode.\n",
    "\n",
    "\n",
    "6. Uforsk modellen ved å varierer $k$ og $b$ systematisk. Hvilke sammenhenger finner du?\n",
    "En større k fører til at grafen kommer til en bråere \"brems\" ved bæreevnen. En større b fører til at veksten blir mer eksponentiel, der en lavere bæreevne får veksten til å nærmest se lineær ut. \n",
    "\n"
   ]
  },
  {
   "cell_type": "code",
   "execution_count": 40,
   "metadata": {},
   "outputs": [
    {
     "data": {
      "image/png": "[encoded data removed]",
      "text/plain": [
       "<Figure size 432x288 with 1 Axes>"
      ]
     },
     "metadata": {},
     "output_type": "display_data"
    }
   ],
   "source": [
    "\n",
    "N = 10\n",
    "b = 50000\n",
    "dt = 1\n",
    "k = 1   #Ettersom veksten til bakteriene er lik antallet bakterier, er k = 1\n",
    "\n",
    "\n",
    "tid = zeros(N)\n",
    "antall = zeros(N)\n",
    "derantall = zeros(N)\n",
    "\n",
    "\n",
    "tid[0]= 0\n",
    "antall[0]= 5000\n",
    "\n",
    "\n",
    "for i in range(N-1):\n",
    "    derantall[i] = (antall[i]*k)*(1-(antall[i]/b))\n",
    "    antall[i+1] = antall[i]+derantall[i]*dt\n",
    "    tid[i+1] = tid[i]+dt\n",
    "    \n",
    "plot(tid, antall)\n",
    "grid(True)"
   ]
  },
  {
   "cell_type": "markdown",
   "metadata": {},
   "source": [
    "## Modell 3: Rovdyr-byttedyr\n",
    "\n",
    "<img src=\"https://i.ytimg.com/vi/zNO0kxTClYo/maxresdefault.jpg\",width=500,height=500>\n",
    "\n",
    "Vi trenger to differensiallikninger for å modellere både rovdyr og byttedyr. Størrelsen til de ulike populasjonene, vil påvirke hverandre. En modell for dette er gitt med følgende type differensiallikninger (kalt Lotka-Volterra differensiallikningene):\n",
    "\n",
    "La B(t) være antall byttedyr etter t tidsenheter og la R(t) være antall rovdyr etter t tidsenheter.\n",
    "\n",
    "$B'(t) = a\\cdot B(t) - b\\cdot B(t)R(t)$\n",
    "\n",
    "$R'(t) = c\\cdot B(t)R(t) - d \\cdot R(t)$\n",
    "\n",
    "1\\. Hva betyr de ulike leddene i likningene? Hva betyr de ulike koeffisientene?\n",
    "Det første leddet til B'(t) viser veksten hos B populasjonen. a er her det samme som k var i oppgave 1 og 2, nemlig vekstraten. \n",
    "Den andre delen sier noe om nedgangen i B populasjonen. Når populasjon R øker, synker populasjon B. Her står b for hvor ofte rovdyrene møter byttedyrene. \n",
    "Første leddet i likning R'(t) viser at jo oftere artene møtes, jo flere er det av hver av dem. koeffisienten c sier igjen noe om hvor ofte byttedyr og rovdyr møttes. \n",
    "Andre del av likningen viser nedgangen i rovdyr populasjonen dersom populasjonen blir for stor. Her er d nedgangsraten. \n",
    "\n",
    "Vi kan starte med 100 seler og 100 isbjørner på en isolert øy. Vi velger A=0.25, B=0.002, C=0.1 og D=0.001.\n",
    "\n",
    "2\\. Bruk Eulers metode og løs likningene. Plott _B(t)_ og _R(t)_ i samme koordinatsystem. Beskriv sammenhengen med ord.\n",
    "\n",
    "3\\. Endre systematisk på antallet rovdyr og byttedyr. Beskriv hva som skjer.\n",
    "\n",
    "4\\. Endre systematisk på koeffisientene. Beskriv hva som skjer."
   ]
  },
  {
   "cell_type": "code",
   "execution_count": 103,
   "metadata": {},
   "outputs": [
    {
     "data": {
      "image/png": "[encoded data removed]",
      "text/plain": [
       "<Figure size 432x288 with 2 Axes>"
      ]
     },
     "metadata": {},
     "output_type": "display_data"
    }
   ],
   "source": [
    "#Koeffisientene og start populasjon\n",
    "B0 = 100  #antall seler i t = 0\n",
    "R0 = 100  #antall isbjørner i t = 0\n",
    "a = 0.25  #vekstraten til seler\n",
    "b = 0.002 #møte mellom B og R\n",
    "c = 0.1   #møte mellom B og R 2\n",
    "d = 0.001 #nedgangsrate for isbjørn\n",
    "\n",
    "N = 1000   #intervaller   \n",
    "t = 40\n",
    "dt = t/(N-1)\n",
    "\n",
    "#matriser\n",
    "tid = zeros(N)\n",
    "isbjørn = zeros(N)\n",
    "seler = zeros(N)\n",
    "deris = zeros(N)\n",
    "derse = zeros(N)\n",
    "\n",
    "\n",
    "seler[0] = B0\n",
    "isbjørn[0] = R0\n",
    "\n",
    "\n",
    "for i in range(N-1):\n",
    "    derse[i] = a*seler[i]-b*seler[i]*isbjørn[i]\n",
    "    deris[i] = c*isbjørn[i]*seler[i]-d*isbjørn[i]\n",
    "    seler[i+1] = seler[i]+derse[i]*dt\n",
    "    isbjørn[i+1] = isbjørn[i]+deris[i]*dt\n",
    "    tid[i+1] = tid[i]+dt\n",
    "\n",
    "    \n",
    "#plotter\n",
    "fig = figure()\n",
    "ax = fig.add_subplot(111)\n",
    "data1 = ax.plot(tid, seler, '-b', label = 'seler')\n",
    "ax2 = ax.twinx()\n",
    "data2 = ax2.plot(tid, isbjørn, '-r', label = 'isbjørner')\n",
    "\n",
    "data = data1 + data2\n",
    "datatittel = [l.get_label() for l in data]\n",
    "ax.legend(data, datatittel, loc=0)\n",
    "\n",
    "ax.grid()\n",
    "ax.set_xlabel(\"Tid i måneder\")\n",
    "ax.set_ylabel(\"Antall seler\")\n",
    "ax2.set_ylabel(\"Antall isbjørner\")\n",
    "ax2.set_ylim(0, 75000)\n",
    "ax.set_ylim(0, 100000)\n",
    "plt.show()"
   ]
  },
  {
   "cell_type": "code",
   "execution_count": null,
   "metadata": {},
   "outputs": [],
   "source": []
  }
 ],
 "metadata": {
  "kernelspec": {
   "display_name": "Python 3",
   "language": "python",
   "name": "python3"
  },
  "language_info": {
   "codemirror_mode": {
    "name": "ipython",
    "version": 3
   },
   "file_extension": ".py",
   "mimetype": "text/x-python",
   "name": "python",
   "nbconvert_exporter": "python",
   "pygments_lexer": "ipython3",
   "version": "3.6.5"
  }
 },
 "nbformat": 4,
 "nbformat_minor": 2
}
